{
 "cells": [
  {
   "cell_type": "markdown",
   "metadata": {},
   "source": [
    "# In Class Lab 3\n"
   ]
  },
  {
   "cell_type": "code",
   "execution_count": 28,
   "metadata": {},
   "outputs": [],
   "source": [
    "#In Class Lab 3 Template\n",
    "# G Besla ASTR 400B\n",
    "\n",
    "# Load Modules\n",
    "import numpy as np\n",
    "import astropy.units as u\n",
    "\n",
    "# import plotting modules\n",
    "import matplotlib.pyplot as plt\n",
    "import matplotlib\n",
    "%matplotlib inline\n"
   ]
  },
  {
   "cell_type": "markdown",
   "metadata": {},
   "source": [
    "The Figure illustrates the color magnitude diagram (CMD) for the Carina Dwarf along with the interpreted \n",
    "star formation history from isochrone fitting to the CMD.\n",
    "The image is from Tolstoy+2009 ARA&A 47 review paper about dwarf galaxies\n",
    "\n",
    "![Iso](./Lab3_Isochrones.png)\n"
   ]
  },
  {
   "cell_type": "markdown",
   "metadata": {},
   "source": [
    "# This Lab:\n",
    "\n",
    "Modify the template file of your choice to plot isochrones that correspond to the inferred star formation episodes (right panel of Figure 1) to recreate the dominant features of the CMD of Carina (left panel of Figure 1). "
   ]
  },
  {
   "cell_type": "code",
   "execution_count": 29,
   "metadata": {},
   "outputs": [],
   "source": [
    "# Some Notes about the Isochrone Data\n",
    "# DATA From   \n",
    "# http://stellar.dartmouth.edu/models/isolf_new.html\n",
    "# files have been modified from download.  \n",
    "# ( M/Mo --> M;   Log L/Lo --> L)\n",
    "# removed #'s from all lines except column heading\n",
    "# NOTE SETTINGS USED:  \n",
    "# Y = 0.245 default   [Fe/H] = -2.0  alpha/Fe = -0.2\n",
    "# These could all be changed and it would generate \n",
    "# a different isochrone\n"
   ]
  },
  {
   "cell_type": "code",
   "execution_count": 30,
   "metadata": {},
   "outputs": [],
   "source": [
    "\n",
    "# Filename for data with Isochrone fit for 1 Gyr\n",
    "# These files are located in the folder IsochroneData\n",
    "filename1=\"./IsochroneData/Isochrone1.txt\"\n",
    "# Isochrone 8\n",
    "filename6=\"./IsochroneData/Isochrone6.txt\"\n",
    "# Isochrone 8\n",
    "filename8=\"./IsochroneData/Isochrone8.txt\"\n",
    "# Isochrone 13.5\n",
    "filename13_5=\"./IsochroneData/Isochrone13_5.txt\"\n"
   ]
  },
  {
   "cell_type": "code",
   "execution_count": 31,
   "metadata": {},
   "outputs": [],
   "source": [
    "# READ IN DATA\n",
    "# \"dtype=None\" means line is split using white spaces\n",
    "# \"skip_header=8\"  skipping the first 8 lines \n",
    "# the flag \"names=True\" creates arrays to store the date\n",
    "#       with the column headers given in line 8 \n",
    "\n",
    "# Read in data for an isochrone corresponding to 1 Gyr\n",
    "data1 = np.genfromtxt(filename1,dtype=None,\n",
    "                      names=True,skip_header=8)\n",
    "#Isochrone 6\n",
    "data6 = np.genfromtxt(filename6,dtype=None,\n",
    "                      names=True,skip_header=8)\n",
    "#Isochrone 8\n",
    "data8 = np.genfromtxt(filename8,dtype=None,\n",
    "                      names=True,skip_header=8)\n",
    "# Isochrone 13.5\n",
    "data13_5 = np.genfromtxt(filename13_5,dtype=None,\n",
    "                      names=True,skip_header=8)\n"
   ]
  },
  {
   "cell_type": "code",
   "execution_count": 32,
   "metadata": {},
   "outputs": [],
   "source": [
    "# Plot Isochrones \n",
    "# For Carina\n",
    "\n",
    "fig = plt.figure(figsize=(10,10))\n",
    "ax = plt.subplot(111)\n",
    "\n",
    "# Plot Isochrones\n",
    "\n",
    "# Isochrone for 1 Gyr\n",
    "# Plotting Color vs. Difference in Color \n",
    "plt.plot(data1['B']-data1['R'], data1['R'], color='blue', \n",
    "         linewidth=5, label='1 Gyr')\n",
    "###EDIT Here, following the same format as the line above \n",
    "#Isochrone 6\n",
    "plt.plot(data6['B']-data6['R'], data6['R'], color='purple', \n",
    "         linewidth=5, label='6 Gyr')\n",
    "#Isochrone 8\n",
    "plt.plot(data8['B']-data8['R'], data8['R'], color='red', \n",
    "         linewidth=5, label='8 Gyr')\n",
    "# Isochrone 13.5\n",
    "plt.plot(data13_5['B']-data13_5['R'], data13_5['R'], color='green', \n",
    "         linewidth=5, label='13.5 Gyr')\n",
    "\n",
    "\n",
    "# Add axis labels\n",
    "plt.xlabel('B-R', fontsize=22)\n",
    "plt.ylabel('M$_R$', fontsize=22)\n",
    "\n",
    "#set axis limits\n",
    "plt.xlim(-0.5,2)\n",
    "plt.ylim(5,-2.5)\n",
    "\n",
    "#adjust tick label font size\n",
    "label_size = 22\n",
    "matplotlib.rcParams['xtick.labelsize'] = label_size \n",
    "matplotlib.rcParams['ytick.labelsize'] = label_size\n",
    "\n",
    "# add a legend with some customizations.\n",
    "legend = ax.legend(loc='upper left',fontsize='x-large')\n",
    "\n",
    "#add figure text\n",
    "plt.figtext(0.5, 0.15, 'CMD for Carina dSph', fontsize=22)\n",
    "\n",
    "plt.savefig('IsochroneCarina.png')\n"
   ]
  },
  {
   "cell_type": "markdown",
   "metadata": {
    "collapsed": true
   },
   "source": [
    "# Q2\n",
    "\n",
    "Could there be younger ages than suggested in the Tolstoy plot?\n",
    "Try adding younger isochrones to the above plot.\n",
    "\n"
   ]
  },
  {
   "cell_type": "markdown",
   "metadata": {},
   "source": [
    "Yes, looking at the isochrone for stars at 1Gyr of age, we can see that it roughly traces out a wide loop on the figure by Tolstoy 2009. "
   ]
  },
  {
   "cell_type": "markdown",
   "metadata": {},
   "source": [
    "\n",
    "# Q3\n",
    "\n",
    "What do you think might cause the bursts of star formation?\n"
   ]
  },
  {
   "cell_type": "markdown",
   "metadata": {},
   "source": [
    "At these points in time, its possible there was a galaxy merger that \"stirred the pot\" and triggered stellar formation. Stars could've also formed in waves, where the first population formed and died, then the second population took that material to form and eventually die, and so on. "
   ]
  }
 ],
 "metadata": {
  "kernelspec": {
   "display_name": "base",
   "language": "python",
   "name": "python3"
  },
  "language_info": {
   "codemirror_mode": {
    "name": "ipython",
    "version": 3
   },
   "file_extension": ".py",
   "mimetype": "text/x-python",
   "name": "python",
   "nbconvert_exporter": "python",
   "pygments_lexer": "ipython3",
   "version": "3.11.5"
  }
 },
 "nbformat": 4,
 "nbformat_minor": 2
}
