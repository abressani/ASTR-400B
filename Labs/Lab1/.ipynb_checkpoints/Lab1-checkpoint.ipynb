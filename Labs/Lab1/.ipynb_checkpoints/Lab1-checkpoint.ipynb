{
 "cells": [
  {
   "cell_type": "markdown",
   "metadata": {},
   "source": [
    "# In Class Lab 1\n",
    "\n",
    "### Due by midnight, thursday in your github repository 'Labs/Lab1' folder\n"
   ]
  },
  {
   "cell_type": "code",
   "execution_count": 2,
   "metadata": {},
   "outputs": [],
   "source": [
    "# Import Modules \n",
    "\n",
    "#!pip install numpy\n",
    "\n",
    "import numpy as np # import numpy\n",
    "import astropy.units as u # import astropy units\n",
    "from astropy import constants as const # import astropy constants"
   ]
  },
  {
   "cell_type": "markdown",
   "metadata": {},
   "source": [
    "### Astropy Units:  https://docs.astropy.org/en/stable/units/index.html"
   ]
  },
  {
   "cell_type": "markdown",
   "metadata": {},
   "source": [
    "\n",
    "## Part A:  The Local Standard of Rest\n",
    "Proper motion of Sgr A* from Reid & Brunthaler 2004\n",
    "$\\mu = 6.379$ mas/yr \n",
    "\n",
    "Peculiar motion of the sun, $v_\\odot$ = 12.24 km/s  (Schonrich 2010)\n",
    "\n",
    "\n",
    "$v_{tan} = 4.74 \\frac{\\mu}{\\rm mas/yr} \\frac{R_o}{\\rm kpc} = V_{LSR} + v_\\odot$\n",
    "\n",
    "\n",
    "### a)\n",
    "\n",
    "Create a function called VLSR to compute the local standard of res (V$_{LSR}$).\n",
    "\n",
    "The function should take as input: the solar radius (R$_o$), the proper motion (mu)\n",
    "and the peculiar motion of the sun in the $v_\\odot$ direction.\n",
    "\n",
    "Compute V$_{LSR}$ using three different values R$_o$: \n",
    "1. Water Maser Distance for the Sun :  R$_o$ = 8.34 kpc   (Reid 2014 ApJ 783) \n",
    "2. GRAVITY Collaboration Distance for the Sun:  R$_o$ = 8.178 kpc   (Abuter+2019 A&A 625)\n",
    "3. Value for Distance to Sun listed in Sparke & Gallagher : R$_o$ = 7.9 kpc \n"
   ]
  },
  {
   "cell_type": "code",
   "execution_count": 14,
   "metadata": {},
   "outputs": [],
   "source": [
    "def VLSR(Ro, mu=6.379, vsun=12.24*u.km/u.s):\n",
    "    '''\n",
    "    This function will compute velocity at local standard of rest.\n",
    "    VLSR = 4.74*mu*Ro - vsun\n",
    "    Inputs: Ro (kpc) distance between Sun and center of galaxy\n",
    "            mu proper motion of SagA* (mas/yr)\n",
    "                Default is Reid & Brunthaler 2004\n",
    "            vsun (km/s) puculiar motion of sun in v-direction      \n",
    "    Outputs: VLSR (km/s) The local standard of rest\n",
    "    '''\n",
    "    VLSR = 4.74*mu*(Ro/u.kpc)*u.km/u.s - vsun\n",
    "    return VLSR"
   ]
  },
  {
   "cell_type": "code",
   "execution_count": 15,
   "metadata": {},
   "outputs": [],
   "source": [
    "# Different values of distance to the galactic center\n",
    "RoReid = 8.34*u.kpc #Reid+2014\n",
    "RoAbuter = 8.178*u.kpc #Abuter+2019\n",
    "RoSparke = 7.9*u.kpc #Sparke & Gallagher text"
   ]
  },
  {
   "cell_type": "code",
   "execution_count": 16,
   "metadata": {},
   "outputs": [
    {
     "name": "stdout",
     "output_type": "stream",
     "text": [
      "239.9320764 km / s\n"
     ]
    }
   ],
   "source": [
    "# Using Reid 2014\n",
    "print(VLSR(RoReid))"
   ]
  },
  {
   "cell_type": "code",
   "execution_count": 17,
   "metadata": {},
   "outputs": [
    {
     "name": "stdout",
     "output_type": "stream",
     "text": [
      "235.03376988000002 km / s\n",
      "235.0 km / s\n"
     ]
    }
   ],
   "source": [
    "# Calculating VLSR using gravity collab\n",
    "VLSR_Abuter = VLSR(RoAbuter)\n",
    "print(VLSR_Abuter)\n",
    "print(np.round(VLSR_Abuter))"
   ]
  },
  {
   "cell_type": "code",
   "execution_count": 18,
   "metadata": {},
   "outputs": [
    {
     "name": "stdout",
     "output_type": "stream",
     "text": [
      "7.9 kpc\n",
      "8.0 kpc\n"
     ]
    }
   ],
   "source": [
    "# Calculating VLSR using Sparke and Gallagher\n",
    "VLSR_Sparke = VLSR(RoSparke)\n",
    "print(RoSparke)\n",
    "print(np.round(RoSparke))"
   ]
  },
  {
   "cell_type": "markdown",
   "metadata": {},
   "source": [
    "### b)\n",
    "\n",
    "compute the orbital period of the sun in Gyr using R$_o$ from the GRAVITY Collaboration (assume circular orbit)\n",
    "\n",
    "Note that 1 km/s $\\sim$ 1kpc/Gyr"
   ]
  },
  {
   "cell_type": "code",
   "execution_count": 19,
   "metadata": {},
   "outputs": [],
   "source": [
    "#Orbital period = 2*pi*R/v\n",
    "def TorbSun(Ro, Vc):\n",
    "    '''\n",
    "    This function computes orbital period of the Sun\n",
    "    T = 2*pi*R/v\n",
    "    Inputs:\n",
    "        Ro: (Astropy quantity) float distance to the galactic center from the sun in kpc\n",
    "        Vc: (Astropy quantity) float velocity of the sun in the 'v' direction (tangent to the orbital path) in km/s\n",
    "    Output: \n",
    "        T: (Astropy quantity) orbital period in Gyr\n",
    "    '''\n",
    "    #Make units similar\n",
    "    VkpcGyr = Vc.to(u.kpc/u.Gyr) \n",
    "    #Calculate period\n",
    "    T = 2*np.pi*Ro/VkpcGyr\n",
    "\n",
    "    return T"
   ]
  },
  {
   "cell_type": "code",
   "execution_count": 20,
   "metadata": {},
   "outputs": [],
   "source": [
    "#Peculiar motion of the sun\n",
    "Vsunpec = 12.24*u.km/u.s"
   ]
  },
  {
   "cell_type": "code",
   "execution_count": 21,
   "metadata": {},
   "outputs": [],
   "source": [
    "#Total motion of sun in v-direction (tangent to orbital path)\n",
    "Vsun = VLSR_Abuter + Vsunpec"
   ]
  },
  {
   "cell_type": "code",
   "execution_count": 22,
   "metadata": {},
   "outputs": [
    {
     "name": "stdout",
     "output_type": "stream",
     "text": [
      "0.20318680562272234 Gyr\n"
     ]
    }
   ],
   "source": [
    "#Orbital period of the Sun\n",
    "T_Abuter = TorbSun(RoAbuter, Vsun)\n",
    "print(T_Abuter)"
   ]
  },
  {
   "cell_type": "markdown",
   "metadata": {},
   "source": [
    "### c)\n",
    "\n",
    "Compute the number of rotations about the GC over the age of the universe (13.8 Gyr)"
   ]
  },
  {
   "cell_type": "code",
   "execution_count": 23,
   "metadata": {},
   "outputs": [
    {
     "name": "stdout",
     "output_type": "stream",
     "text": [
      "67.91779593023313\n"
     ]
    }
   ],
   "source": [
    "#Number of times we orbited milky way\n",
    "AgeUni = 13.8 * u.Gyr\n",
    "print(AgeUni/T_Abuter)"
   ]
  },
  {
   "cell_type": "markdown",
   "metadata": {},
   "source": [
    "## Part B  Dark Matter Density Profiles\n",
    "\n",
    "### a)\n",
    "Try out Fitting Rotation Curves \n",
    "[here](http://wittman.physics.ucdavis.edu/Animations/RotationCurve/GalacticRotation.html)\n",
    "\n",
    "\n",
    "### b)\n",
    "\n",
    "\n",
    "In the Isothermal Sphere model, what is the mass enclosed within the solar radius (R$_o$) in units of M$_\\odot$? \n",
    "\n",
    "Recall that for the Isothermal sphere :\n",
    "$\\rho(r) = \\frac{V_{LSR}^2}{4\\pi G r^2}$\n",
    "\n",
    "Where $G$ = 4.4985e-6 kpc$^3$/Gyr$^2$/M$_\\odot$, r is in kpc and $V_{LSR}$ is in km/s\n",
    "\n",
    "What about at 260 kpc (in units of  M$_\\odot$) ? "
   ]
  },
  {
   "cell_type": "code",
   "execution_count": null,
   "metadata": {},
   "outputs": [],
   "source": []
  },
  {
   "cell_type": "markdown",
   "metadata": {},
   "source": [
    "## c) \n",
    "\n",
    "The Leo I satellite is one of the fastest moving satellite galaxies we know. \n",
    "\n",
    "\n",
    "It is moving with 3D velocity of magnitude: Vtot = 196 km/s at a distance of 260 kpc (Sohn 2013 ApJ 768)\n",
    "\n",
    "If we assume that Leo I is moving at the escape speed:\n",
    "\n",
    "$v_{esc}^2 = 2|\\Phi| = 2 \\int G \\frac{\\rho(r)}{r}dV $ \n",
    "\n",
    "and assuming the Milky Way is well modeled by a Hernquist Sphere with a scale radius of $a$= 30 kpc, what is the minimum mass of the Milky Way (in units of M$_\\odot$) ?  \n",
    "\n",
    "How does this compare to estimates of the mass assuming the Isothermal Sphere model at 260 kpc (from your answer above)"
   ]
  },
  {
   "cell_type": "code",
   "execution_count": null,
   "metadata": {},
   "outputs": [],
   "source": []
  }
 ],
 "metadata": {
  "kernelspec": {
   "display_name": "Python 3 (ipykernel)",
   "language": "python",
   "name": "python3"
  },
  "language_info": {
   "codemirror_mode": {
    "name": "ipython",
    "version": 3
   },
   "file_extension": ".py",
   "mimetype": "text/x-python",
   "name": "python",
   "nbconvert_exporter": "python",
   "pygments_lexer": "ipython3",
   "version": "3.11.5"
  }
 },
 "nbformat": 4,
 "nbformat_minor": 4
}
