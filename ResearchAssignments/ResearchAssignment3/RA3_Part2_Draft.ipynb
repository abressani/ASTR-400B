{
 "cells": [
  {
   "cell_type": "code",
   "execution_count": 178,
   "metadata": {},
   "outputs": [],
   "source": [
    "# Import Modules\n",
    "import numpy as np\n",
    "from astropy import units as u\n",
    "from astropy import constants as const\n",
    "\n",
    "import matplotlib\n",
    "import matplotlib.pyplot as plt\n",
    "from matplotlib.colors import LogNorm\n",
    "from scipy.optimize import curve_fit\n",
    "\n",
    "from ReadFile import Read\n",
    "from CenterOfMass2 import CenterOfMass\n",
    "from GalaxyMass import ComponentMass\n",
    "from RemnantDensityProfile import Integrator\n",
    "from RemnantDensityProfile import density"
   ]
  },
  {
   "cell_type": "code",
   "execution_count": 179,
   "metadata": {},
   "outputs": [],
   "source": [
    "# Get file info\n",
    "filename = \"Merger_801.txt\"\n",
    "Remnant_t, Remnant_p, Remnant_d = Read(filename)\n",
    "\n",
    "Mhalo = np.sum(Remnant_d['m'])"
   ]
  },
  {
   "cell_type": "code",
   "execution_count": null,
   "metadata": {},
   "outputs": [],
   "source": [
    "# Find virial radius\n",
    "r_200 = M/deltarhocrit\n",
    "\n",
    "radius where density is 169 times the "
   ]
  },
  {
   "cell_type": "code",
   "execution_count": null,
   "metadata": {},
   "outputs": [],
   "source": [
    "# Get density profile\n",
    "# get COM of remnant\n",
    "Remnant = CenterOfMass(filename, 1)\n",
    "\n",
    "# Error tolerance\n",
    "delta = 0.01\n",
    "# Decrease volume factor\n",
    "voldec = 2.0\n",
    "\n",
    "# This is the center of mass of the remnant\n",
    "Remnant_COMp = Remnant.COM_P(delta, voldec)\n",
    "\n",
    "# Density Profile\n",
    "'''\n",
    "Use virial radius!!! \n",
    "'''\n",
    "Halo_density = density(4000, 10)"
   ]
  },
  {
   "cell_type": "code",
   "execution_count": 214,
   "metadata": {},
   "outputs": [
    {
     "name": "stdout",
     "output_type": "stream",
     "text": [
      "411.9860349999991\n"
     ]
    }
   ],
   "source": [
    "print(Integrator(11500, 100)[1][-1])"
   ]
  },
  {
   "cell_type": "code",
   "execution_count": 215,
   "metadata": {},
   "outputs": [
    {
     "name": "stdout",
     "output_type": "stream",
     "text": [
      "411.9860349999991\n",
      "404.4275661699991\n"
     ]
    }
   ],
   "source": [
    "print(Mhalo)\n",
    "print(Integrator(4000, 10)[1][-1])"
   ]
  },
  {
   "cell_type": "markdown",
   "metadata": {},
   "source": [
    "# Part 2: Fit halo density profiles to MW/M31 remnant\n",
    "\n",
    "Three profiles: NFW, Einasto, Hernquist\n",
    "\n",
    "Steps:\n",
    "\n",
    "1) Import remnant density profile\n",
    "2) Fit NFW Profile\n",
    "\n",
    "    a) Determine $r_{dm}, \\rho_{dm}$\n",
    "3) Fit Hernquist Profile\n",
    "\n",
    "    a) Determine $M_{halo}$, $a$\n",
    "4) Fit Einasto Profile\n",
    "    \n",
    "    a) Determine $\\rho_{-2}$, $\\alpha$, $r_{-2}$\n",
    "\n",
    "    Note: Use $\\frac{dlog(\\rho)}{dlog(r)} = -2$\n",
    "\n",
    "5) Perform least squared test to determine which fit has the least error"
   ]
  },
  {
   "cell_type": "code",
   "execution_count": 181,
   "metadata": {},
   "outputs": [],
   "source": [
    "def HernquistProfile(r, a):\n",
    "    ''' \n",
    "    Hernquist profile format (see proposal)\n",
    "    Inputs:\n",
    "        r: variable\n",
    "            Independent radius variable that density is dependent on\n",
    "        a: paramater\n",
    "            Scale length of remnant halo\n",
    "    Outputs:\n",
    "        func: function\n",
    "            Hernquist profile function\n",
    "    '''\n",
    "    # Find halo mass\n",
    "    Mhalo = Integrator(4000, 10)[1][-1]\n",
    "\n",
    "    # Simplify\n",
    "    numerator = Mhalo*a\n",
    "    denom = 2*np.pi*r*(r+a)**3\n",
    "\n",
    "    func = numerator/denom\n",
    "    \n",
    "    return np.float64(func)"
   ]
  },
  {
   "cell_type": "code",
   "execution_count": 193,
   "metadata": {},
   "outputs": [],
   "source": [
    "# Letting Mass be a parameter for Hernquist\n",
    "def HernquistwM(r, Mhalo, a):\n",
    "    ''' \n",
    "    Hernquist profile format (see proposal)\n",
    "    Inputs:\n",
    "        r: variable\n",
    "            Independent radius variable that density is dependent on\n",
    "        a: paramater\n",
    "            Scale length of remnant halo\n",
    "    Outputs:\n",
    "        func: function\n",
    "            Hernquist profile function\n",
    "    '''\n",
    "    # Simplify\n",
    "    numerator = Mhalo*a\n",
    "    denom = 2*np.pi*r*(r+a)**3\n",
    "\n",
    "    func = numerator/denom\n",
    "    \n",
    "    return np.float64(func)\n"
   ]
  },
  {
   "cell_type": "code",
   "execution_count": 182,
   "metadata": {},
   "outputs": [],
   "source": [
    "def NFWProfile(r, rdm, rhodm):\n",
    "    ''' \n",
    "    NFW profile format (see proposal)\n",
    "    Inputs:\n",
    "        r: variable\n",
    "            Independent radius variable that density is dependent on\n",
    "        rdm: variable\n",
    "            Charactoristic radius\n",
    "        rhodm: variable\n",
    "            Characteristic density\n",
    "    Outputs:\n",
    "        func: function\n",
    "            NFW profile function\n",
    "    '''\n",
    "    ######\n",
    "    #    Do we need to simplify for rdm and rhodm? \n",
    "    ######\n",
    "\n",
    "    # Simplify\n",
    "    A = (r/rdm)**(-1)\n",
    "    B = (1+(r/rdm))**(-2)\n",
    "\n",
    "    func = rhodm * A * B\n",
    "    \n",
    "    return func"
   ]
  },
  {
   "cell_type": "code",
   "execution_count": 187,
   "metadata": {},
   "outputs": [],
   "source": [
    "# Fitting to our density profiles\n",
    "# Hernquist\n",
    "Hernpopt, Hernpcov = curve_fit(HernquistProfile, Halo_density[0], Halo_density[1], p0=(30))\n",
    "Hern_fit = HernquistProfile(Halo_density[0], *Hernpopt)\n"
   ]
  },
  {
   "cell_type": "code",
   "execution_count": 199,
   "metadata": {},
   "outputs": [
    {
     "name": "stdout",
     "output_type": "stream",
     "text": [
      "[74.8467164   1.58775638]\n"
     ]
    }
   ],
   "source": [
    "# Hernquist with mass as a parameter\n",
    "HernMpopt, HernMpcov = curve_fit(HernquistwM, Halo_density[0], Halo_density[1])\n",
    "HernM_fit = HernquistwM(Halo_density[0], *HernMpopt)\n",
    "HernMerr = np.sqrt(np.diag(HernMpcov))\n",
    "print(HernMerr)"
   ]
  },
  {
   "cell_type": "code",
   "execution_count": 190,
   "metadata": {},
   "outputs": [
    {
     "name": "stdout",
     "output_type": "stream",
     "text": [
      "[5.10924219e+01 9.14949321e-04]\n",
      "[1.11345601e+00 2.00175373e-05]\n"
     ]
    }
   ],
   "source": [
    "# NFW \n",
    "NFWpopt, NFWpcov = curve_fit(NFWProfile, Halo_density[0], Halo_density[1], p0=(400, 1))\n",
    "NFW_fit = NFWProfile(Halo_density[0], *NFWpopt)\n",
    "print(NFWpopt)\n",
    "NFWerr= np.sqrt(np.diag(NFWpcov))\n",
    "print(NFWerr)"
   ]
  },
  {
   "cell_type": "code",
   "execution_count": 184,
   "metadata": {},
   "outputs": [
    {
     "name": "stdout",
     "output_type": "stream",
     "text": [
      "[37.02920956]\n",
      "a Error: 0.002828606868265233\n"
     ]
    }
   ],
   "source": [
    "print(Hernpopt)\n",
    "Hernerr= np.sqrt(np.diag(Hernpcov))\n",
    "print(\"a Error:\", Hernerr[0])\n",
    "#print(\"a Error:\", Hernerr[1])"
   ]
  },
  {
   "cell_type": "code",
   "execution_count": 197,
   "metadata": {},
   "outputs": [
    {
     "data": {
      "image/png": "[encoded data removed]",
      "text/plain": [
       "<Figure size 640x480 with 1 Axes>"
      ]
     },
     "metadata": {},
     "output_type": "display_data"
    }
   ],
   "source": [
    "# Plotting\n",
    "fig, ax = plt.subplots()\n",
    "# Simulated Density profile\n",
    "ax.plot(Halo_density[0], Halo_density[1], 'b', linewidth = 2, label='Simulated')\n",
    "\n",
    "# Henrquist fit\n",
    "ax.plot(Halo_density[0], Hern_fit, color = 'r', label='Hernquist', linestyle='-.')\n",
    "\n",
    "# Hern with mass\n",
    "ax.plot(Halo_density[0], HernM_fit, color = 'y', label='test', linestyle='--')\n",
    "\n",
    "# NFW fit\n",
    "ax.plot(Halo_density[0], NFW_fit, color = 'g', label='NFW', linestyle='-.')\n",
    "\n",
    "\n",
    "# Formatting\n",
    "ax.set_yscale('log')\n",
    "ax.grid()\n",
    "ax.set(title='Merger Remnant Density Profile', xlabel='Radius (kpc)', ylabel='Density (Msun*10e10/kpc^3)')\n",
    "ax.legend(loc='best')\n",
    "\n",
    "plt.show()"
   ]
  }
 ],
 "metadata": {
  "kernelspec": {
   "display_name": "base",
   "language": "python",
   "name": "python3"
  },
  "language_info": {
   "codemirror_mode": {
    "name": "ipython",
    "version": 3
   },
   "file_extension": ".py",
   "mimetype": "text/x-python",
   "name": "python",
   "nbconvert_exporter": "python",
   "pygments_lexer": "ipython3",
   "version": "3.11.5"
  }
 },
 "nbformat": 4,
 "nbformat_minor": 2
}
