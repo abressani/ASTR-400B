{
 "cells": [
  {
   "cell_type": "code",
   "execution_count": 41,
   "metadata": {},
   "outputs": [],
   "source": [
    "# Import Modules\n",
    "import numpy as np\n",
    "from astropy import units as u\n",
    "from astropy import constants as const\n",
    "\n",
    "import matplotlib\n",
    "import matplotlib.pyplot as plt\n",
    "from matplotlib.colors import LogNorm\n",
    "\n",
    "from ReadFile import Read\n",
    "from CenterOfMass2 import CenterOfMass\n",
    "\n",
    "# Critical density of the universe in 10e10 M_Sun and kpc\n",
    "pcrit = 1.277e-8 "
   ]
  },
  {
   "cell_type": "markdown",
   "metadata": {},
   "source": [
    "# Plan for Research Project:\n",
    "\n",
    "# Part 1: Find the halo denisty profile of the merger remnant.\n",
    "Note: Using snap 801 for MW and M31\n",
    "\n",
    "Steps:\n",
    "1) Extract halo information of MW and M31 and add them together\n",
    "2) Sum mass enclosed in each shell\n",
    "3) Divide mass by spherical volume of the shell\n",
    "4) Store the density value in an array\n",
    "5) Plot that density as a function of radius of the shell"
   ]
  },
  {
   "cell_type": "code",
   "execution_count": 42,
   "metadata": {},
   "outputs": [],
   "source": [
    "def find_nearest(array, value):\n",
    "    ''' \n",
    "    Find the nearest value in an array to an input value\n",
    "    Inputs:\n",
    "        array: array\n",
    "            Array of values\n",
    "        value: float\n",
    "            Float to match nearest value in  array with\n",
    "    Outputs:\n",
    "        array[idx]: float\n",
    "            Element in array closest to input value\n",
    "    '''\n",
    "    array = np.asarray(array)\n",
    "    idx = (np.abs(array - value)).argmin()\n",
    "    return array[idx]"
   ]
  },
  {
   "cell_type": "code",
   "execution_count": 43,
   "metadata": {},
   "outputs": [
    {
     "data": {
      "text/plain": [
       "'\\ndef CombineFilesDM(file1, file2):\\n    \\'\\'\\'\\n    Combine DM data from two files together and make an array out of them\\n    Inputs:\\n        file1: string\\n            Name of file 1\\n        file2: string\\n            Name of file 2\\n    Outputs:\\n        DMMerger: numpy array\\n            Array of DM data of merged galaxies/files\\n    \\'\\'\\'\\n    # Extract info for MW and M31\\n    MWt, MWp, MWd = Read(\"MW_801.txt\")\\n    M31t, M31p, M31d = Read(\"M31_801.txt\")\\n\\n    # Index to halo particles only\\n    MWindex = np.where(MWd[\\'type\\'] == 1)\\n    M31index = np.where(M31d[\\'type\\'] == 1)\\n\\n    # Get halo particle info\\n    MW_DM = MWd[MWindex]\\n    M31_DM = M31d[M31index]\\n\\n    # Add halo particles together from galaxies\\n    \\'\\'\\'\\n    Indexes:\\n        0: type\\n        1: mass\\n        2-4: x,y,z\\n        5-7: vx, vy, vz\\n    \\'\\'\\'    \\n    Merger = np.append(MW_DM, M31_DM)\\n\\n    return Merger\\n\\n# Get details about Merger remnant\\nMerger = CombineFilesDM(\"MW_801.txt\", \"M31_801.txt\")\\n'"
      ]
     },
     "execution_count": 43,
     "metadata": {},
     "output_type": "execute_result"
    }
   ],
   "source": [
    "# This is no longer needed\n",
    "\"\"\"\n",
    "def CombineFilesDM(file1, file2):\n",
    "    '''\n",
    "    Combine DM data from two files together and make an array out of them\n",
    "    Inputs:\n",
    "        file1: string\n",
    "            Name of file 1\n",
    "        file2: string\n",
    "            Name of file 2\n",
    "    Outputs:\n",
    "        DMMerger: numpy array\n",
    "            Array of DM data of merged galaxies/files\n",
    "    '''\n",
    "    # Extract info for MW and M31\n",
    "    MWt, MWp, MWd = Read(\"MW_801.txt\")\n",
    "    M31t, M31p, M31d = Read(\"M31_801.txt\")\n",
    "\n",
    "    # Index to halo particles only\n",
    "    MWindex = np.where(MWd['type'] == 1)\n",
    "    M31index = np.where(M31d['type'] == 1)\n",
    "\n",
    "    # Get halo particle info\n",
    "    MW_DM = MWd[MWindex]\n",
    "    M31_DM = M31d[M31index]\n",
    "\n",
    "    # Add halo particles together from galaxies\n",
    "    '''\n",
    "    Indexes:\n",
    "        0: type\n",
    "        1: mass\n",
    "        2-4: x,y,z\n",
    "        5-7: vx, vy, vz\n",
    "    '''    \n",
    "    Merger = np.append(MW_DM, M31_DM)\n",
    "\n",
    "    return Merger\n",
    "\n",
    "# Get details about Merger remnant\n",
    "Merger = CombineFilesDM(\"MW_801.txt\", \"M31_801.txt\")\n",
    "\"\"\""
   ]
  },
  {
   "cell_type": "code",
   "execution_count": 44,
   "metadata": {},
   "outputs": [],
   "source": [
    "# Get file info\n",
    "filename = \"Merger_801.txt\"\n",
    "Remnant_t, Remnant_p, Remnant_d = Read(filename)"
   ]
  },
  {
   "cell_type": "code",
   "execution_count": 45,
   "metadata": {},
   "outputs": [],
   "source": [
    "# get COM of remnant\n",
    "Remnant = CenterOfMass(filename, 1)\n",
    "\n",
    "# Error tolerance\n",
    "delta = 0.01\n",
    "# Decrease volume factor\n",
    "voldec = 2.0\n",
    "\n",
    "# This is the center of mass of the remnant\n",
    "Remnant_COMp = Remnant.COM_P(delta, voldec)"
   ]
  },
  {
   "cell_type": "code",
   "execution_count": 46,
   "metadata": {},
   "outputs": [],
   "source": [
    "def Integrator(rmax, dr):\n",
    "    '''\n",
    "    Make spheres and sum masses inside\n",
    "    Inputs:\n",
    "        rmax: float\n",
    "            Maximum radius to be considered in kpc\n",
    "        dr: float\n",
    "            Added radius for each shell\n",
    "    Outputs:\n",
    "        radii: numpy array\n",
    "            Radius of sphere\n",
    "        masses: numpy array\n",
    "            Total mass in each sphere\n",
    "    '''\n",
    "    # Determine particle distance from COM\n",
    "    xnew = abs(Remnant_COMp[0].value - Remnant_d['x'])\n",
    "    ynew = abs(Remnant_COMp[1].value - Remnant_d['y'])\n",
    "    znew = abs(Remnant_COMp[2].value - Remnant_d['z'])\n",
    "\n",
    "    # Find magnitude of particle distance\n",
    "    rnew = np.sqrt(xnew**2 + ynew**2 + znew**2)\n",
    "    \n",
    "    # Initial radius (if zero return nan for density)\n",
    "    r0 = 0.1\n",
    "    # Initialize radius and mass array\n",
    "    radii = np.array([])\n",
    "    masses = np.array([])\n",
    "\n",
    "    # Loop over shells \n",
    "    while r0 < rmax:\n",
    "        # Add radius to radii array\n",
    "        radii = np.append(radii, r0)\n",
    "\n",
    "        # Create index where particles are within shell\n",
    "        index = np.where(rnew < r0)\n",
    "\n",
    "        # Take masses of the particles in shell\n",
    "        tot_mass = np.sum(Remnant_d['m'][index])\n",
    "        if tot_mass == 'nan':\n",
    "            tot_mass == 0\n",
    "        # Add new mass value to array\n",
    "        masses = np.append(masses, tot_mass)\n",
    "\n",
    "        # Create new shell\n",
    "        r0 += dr\n",
    "\n",
    "    return radii, masses"
   ]
  },
  {
   "cell_type": "code",
   "execution_count": 47,
   "metadata": {},
   "outputs": [],
   "source": [
    "def density(rmax, dr):\n",
    "    ''' \n",
    "    Convert mass values into spherical density values \n",
    "    Inputs:\n",
    "        rmax: float\n",
    "            Maximum radius to be considered\n",
    "        dr: float\n",
    "            Radius step size\n",
    "    Outputs:\n",
    "        radii: numpy array\n",
    "            Array of radii\n",
    "        densities: numpy array\n",
    "            Array of densities at radius values\n",
    "    '''\n",
    "    # Integrate masses with respect to radius\n",
    "    radii, masses = Integrator(rmax, dr)\n",
    "\n",
    "    # Convert radii to sphere volume\n",
    "    sphere_vol = (4/3) * np.pi * radii**3\n",
    "\n",
    "    # Convert masses and volumes to densities\n",
    "    densities = (masses)/sphere_vol\n",
    "\n",
    "    return radii, densities"
   ]
  },
  {
   "cell_type": "code",
   "execution_count": 48,
   "metadata": {},
   "outputs": [],
   "source": [
    "Halo_density = density(3000, 5)"
   ]
  },
  {
   "cell_type": "code",
   "execution_count": 49,
   "metadata": {},
   "outputs": [
    {
     "name": "stdout",
     "output_type": "stream",
     "text": [
      "[280.1]\n"
     ]
    }
   ],
   "source": [
    "# Define 200 times the critical density\n",
    "rho200 = 200*pcrit\n",
    "# Find closest density in halo array to 200rhocrit\n",
    "rho200_index = find_nearest(Halo_density[1], rho200)\n",
    "# Find index of corresponding array\n",
    "R200_index = np.where(rho200_index == Halo_density[1])\n",
    "# Find R200 radius value\n",
    "R200 = Halo_density[0][R200_index]\n",
    "print(R200)\n"
   ]
  },
  {
   "cell_type": "code",
   "execution_count": 50,
   "metadata": {},
   "outputs": [
    {
     "data": {
      "text/plain": [
       "<matplotlib.legend.Legend at 0x1469f3550>"
      ]
     },
     "execution_count": 50,
     "metadata": {},
     "output_type": "execute_result"
    },
    {
     "data": {
      "image/png": "[encoded data removed]",
      "text/plain": [
       "<Figure size 640x480 with 1 Axes>"
      ]
     },
     "metadata": {},
     "output_type": "display_data"
    }
   ],
   "source": [
    "# Initialize Plots\n",
    "fig, ax = plt.subplots()\n",
    "# Plotting particle masses at given radius\n",
    "ax.plot(Halo_density[0], Halo_density[1], 'b', linewidth = 2, label = 'Dark Matter')\n",
    "\n",
    "# 200rhocrit line\n",
    "ax.axhline(y=200*pcrit, color='r', linestyle='--', label='200rho')\n",
    "# R200 line\n",
    "ax.axvline(x=R200, color='purple', linestyle='--', label='R200')\n",
    "\n",
    "# Formatting\n",
    "ax.set_yscale('log')\n",
    "ax.grid()\n",
    "ax.set(title='Merger Remnant Density Profile', xlabel='Radius (kpc)', ylabel='Density (Msun*10e10/kpc^3)')\n",
    "ax.legend(loc='best')"
   ]
  }
 ],
 "metadata": {
  "kernelspec": {
   "display_name": "base",
   "language": "python",
   "name": "python3"
  },
  "language_info": {
   "codemirror_mode": {
    "name": "ipython",
    "version": 3
   },
   "file_extension": ".py",
   "mimetype": "text/x-python",
   "name": "python",
   "nbconvert_exporter": "python",
   "pygments_lexer": "ipython3",
   "version": "3.11.5"
  }
 },
 "nbformat": 4,
 "nbformat_minor": 2
}
