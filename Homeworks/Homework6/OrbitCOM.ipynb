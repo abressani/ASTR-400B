{
 "cells": [
  {
   "cell_type": "code",
   "execution_count": 223,
   "metadata": {},
   "outputs": [],
   "source": [
    "# Homework 6 Template\n",
    "# G. Besla & R. Li"
   ]
  },
  {
   "cell_type": "code",
   "execution_count": 224,
   "metadata": {},
   "outputs": [],
   "source": [
    "# import modules\n",
    "import numpy as np\n",
    "import astropy.units as u\n",
    "from astropy.constants import G\n",
    "import os\n",
    "\n",
    "# import plotting modules\n",
    "import matplotlib.pyplot as plt\n",
    "import matplotlib\n",
    "%matplotlib inline\n",
    "\n",
    "# my modules\n",
    "from ReadFile import Read\n",
    "# Step 1: modify CenterOfMass so that COM_P now takes a parameter specifying \n",
    "# by how much to decrease RMAX instead of a factor of 2\n",
    "from CenterOfMass2 import CenterOfMass"
   ]
  },
  {
   "cell_type": "code",
   "execution_count": null,
   "metadata": {},
   "outputs": [
    {
     "name": "stdout",
     "output_type": "stream",
     "text": [
      "0\n",
      "5\n",
      "10\n",
      "15\n",
      "20\n",
      "25\n",
      "30\n",
      "35\n",
      "40\n",
      "45\n",
      "50\n",
      "55\n",
      "60\n",
      "65\n",
      "70\n",
      "75\n",
      "80\n",
      "85\n",
      "90\n",
      "95\n",
      "100\n",
      "Orbit_M33.txt\n"
     ]
    }
   ],
   "source": [
    "def OrbitCOM(galaxy, start, end, n):\n",
    "    \"\"\"function that loops over all the desired snapshots to compute the COM pos and vel as a function of time.\n",
    "    inputs:\n",
    "        galaxy: string\n",
    "            name of the galaxy of interest\n",
    "        start: integer\n",
    "            number of the first snapshot to be read\n",
    "        end: integer\n",
    "            number of the last snapshot to be read\n",
    "        n: integer\n",
    "            intervals to return the center of mass   \n",
    "    outputs: none, a text file will appear in your folder\n",
    "    \"\"\"\n",
    "    \n",
    "    # compose the filename for output\n",
    "    fileout = \"Orbit_\" + galaxy + \".txt\"\n",
    "    \n",
    "    #  set tolerance and VolDec for calculating COM_P in CenterOfMass\n",
    "    # for M33 that is stripped more, use different values for VolDec\n",
    "    delta = 0.1\n",
    "    if galaxy == \"M33\":\n",
    "        volDec = 4\n",
    "    if galaxy == \"MW\" or \"M31\":\n",
    "        volDec = 2 # Sometimes this returns \"nan\" for COM_p\n",
    "\n",
    "    # generate the snapshot id sequence \n",
    "    # it is always a good idea to also check if the input is eligible (not required)\n",
    "    snap_ids = np.arange(start, end+1, n)\n",
    "    \n",
    "    # initialize the array for orbital info: t, x, y, z, vx, vy, vz of COM\n",
    "    orbit = np.zeros((len(snap_ids), 7))\n",
    "    \n",
    "\n",
    "    # a for loop \n",
    "    for  i, snap_id in enumerate(snap_ids): # loop over files\n",
    "        \n",
    "        # compose the data filename (be careful about the folder)\n",
    "        # Add a string of the filenumber to the value “000”\n",
    "        ilbl = '000' + str(snap_id)\n",
    "        # Remove all but the last 3 digits\n",
    "        ilbl = ilbl[-3:]\n",
    "        # Name the file\n",
    "        filename = \"%s_\"%(galaxy) + ilbl + '.txt'\n",
    "        # Initialize an instance of CenterOfMass class, using disk particles\n",
    "        COM = CenterOfMass(os.path.join(\"VLowRes\", galaxy, filename), 2)\n",
    "        # Store the COM pos and vel. Remember that now COM_P required VolDec\n",
    "        COM_p = COM.COM_P(delta, volDec)\n",
    "        COM_v = COM.COM_V(COM_p[0], COM_p[1], COM_p[2])\n",
    "    \n",
    "        # store the time, pos, vel in ith element of the orbit array, without units (.value) \n",
    "        # Extracting value\n",
    "        time = COM.time.value\n",
    "        x = COM_p[0].value\n",
    "        y = COM_p[1].value\n",
    "        z = COM_p[2].value\n",
    "        vx = COM_v[0].value\n",
    "        vy = COM_v[1].value\n",
    "        vz = COM_v[2].value\n",
    "        # PLacing values into orbit array\n",
    "        orbit[i][0] = time\n",
    "        orbit[i][1] = x\n",
    "        orbit[i][2] = y\n",
    "        orbit[i][3] = z\n",
    "        orbit[i][4] = vx\n",
    "        orbit[i][5] = vy\n",
    "        orbit[i][6] = vz \n",
    "        # print snap_id to see the progress\n",
    "        print(snap_id)\n",
    "\n",
    "    # write the data to a file\n",
    "    # we do this because we don't want to have to repeat this process \n",
    "    # this code should only have to be called once per galaxy.\n",
    "    np.savetxt(fileout, orbit, fmt = \"%11.3f\"*7, comments='#',\n",
    "               header= \"{:>10s}{:>11s}{:>11s}{:>11s}{:>11s}{:>11s}{:>11s}\"\\\n",
    "                .format('t', 'x', 'y', 'z', 'vx', 'vy', 'vz'))\n",
    "test = OrbitCOM(\"M33\", 0, 100, 5)"
   ]
  },
  {
   "cell_type": "code",
   "execution_count": null,
   "metadata": {},
   "outputs": [],
   "source": [
    "# Recover the orbits and generate the COM files for each galaxy\n",
    "# read in 800 snapshots in intervals of n=5\n",
    "# Note: This might take a little while - test your code with a smaller number of snapshots first! \n"
   ]
  },
  {
   "cell_type": "code",
   "execution_count": 227,
   "metadata": {},
   "outputs": [],
   "source": [
    "# Read in the data files for the orbits of each galaxy that you just created\n",
    "# headers:  t, x, y, z, vx, vy, vz\n",
    "# using np.genfromtxt\n",
    "\n"
   ]
  },
  {
   "cell_type": "code",
   "execution_count": 228,
   "metadata": {},
   "outputs": [],
   "source": [
    "# function to compute the magnitude of the difference between two vectors \n",
    "# You can use this function to return both the relative position and relative velocity for two \n",
    "# galaxies over the entire orbit  \n"
   ]
  },
  {
   "cell_type": "code",
   "execution_count": 229,
   "metadata": {},
   "outputs": [],
   "source": [
    "# Determine the magnitude of the relative position and velocities \n",
    "\n",
    "# of MW and M31\n",
    "\n",
    "# of M33 and M31\n"
   ]
  },
  {
   "cell_type": "code",
   "execution_count": 230,
   "metadata": {},
   "outputs": [],
   "source": [
    "# Plot the Orbit of the galaxies \n",
    "#################################\n",
    "\n"
   ]
  },
  {
   "cell_type": "code",
   "execution_count": 231,
   "metadata": {},
   "outputs": [],
   "source": [
    "# Plot the orbital velocities of the galaxies \n",
    "#################################\n"
   ]
  },
  {
   "cell_type": "code",
   "execution_count": null,
   "metadata": {},
   "outputs": [],
   "source": []
  }
 ],
 "metadata": {
  "kernelspec": {
   "display_name": "base",
   "language": "python",
   "name": "python3"
  },
  "language_info": {
   "codemirror_mode": {
    "name": "ipython",
    "version": 3
   },
   "file_extension": ".py",
   "mimetype": "text/x-python",
   "name": "python",
   "nbconvert_exporter": "python",
   "pygments_lexer": "ipython3",
   "version": "3.11.5"
  }
 },
 "nbformat": 4,
 "nbformat_minor": 2
}
